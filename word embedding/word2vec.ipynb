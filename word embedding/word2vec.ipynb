{
 "cells": [
  {
   "cell_type": "code",
   "execution_count": 1,
   "metadata": {},
   "outputs": [],
   "source": [
    "import pandas as pd\n",
    "import numpy as np\n",
    "from sqlalchemy import create_engine as ce\n",
    "from sqlalchemy import inspect\n",
    "from pathlib import Path\n",
    "import re\n",
    "import contractions"
   ]
  },
  {
   "cell_type": "markdown",
   "metadata": {},
   "source": [
    "# Part 0: Loading the files"
   ]
  },
  {
   "cell_type": "code",
   "execution_count": 2,
   "metadata": {},
   "outputs": [],
   "source": [
    "DATA = Path(\"books.db\")"
   ]
  },
  {
   "cell_type": "code",
   "execution_count": 3,
   "metadata": {},
   "outputs": [],
   "source": [
    "engine = ce(\"sqlite:///\"+str(DATA))"
   ]
  },
  {
   "cell_type": "code",
   "execution_count": 4,
   "metadata": {},
   "outputs": [],
   "source": [
    "inspector = inspect(engine)"
   ]
  },
  {
   "cell_type": "code",
   "execution_count": 5,
   "metadata": {},
   "outputs": [
    {
     "name": "stdout",
     "output_type": "stream",
     "text": [
      "['authors', 'book_file', 'book_original', 'books', 'text_files']\n"
     ]
    }
   ],
   "source": [
    "print(inspector.get_table_names())"
   ]
  },
  {
   "cell_type": "code",
   "execution_count": 6,
   "metadata": {},
   "outputs": [],
   "source": [
    "books_df = pd.read_sql(\"books\", con = engine)\n",
    "author_df = pd.read_sql(\"authors\", con = engine)\n",
    "book_file_df = pd.read_sql(\"book_file\", con = engine)\n",
    "text_file_df = pd.read_sql(\"text_files\", con = engine)"
   ]
  },
  {
   "cell_type": "markdown",
   "metadata": {},
   "source": [
    "# Part 1: Convert book files into sentences"
   ]
  },
  {
   "cell_type": "code",
   "execution_count": 7,
   "metadata": {},
   "outputs": [],
   "source": [
    "# Convert the book text into lowercase\n",
    "filtered_text = pd.DataFrame()\n",
    "filtered_text['text'] = text_file_df['text'].apply(lambda x: list(filter(None, x.lower().split(\"\\n\"))))"
   ]
  },
  {
   "cell_type": "code",
   "execution_count": 8,
   "metadata": {},
   "outputs": [],
   "source": [
    "gender_lst = ['woman', 'women', 'female', 'she', 'her', 'hers', 'man', 'men', 'male', 'he', 'his', 'him']\n",
    "woman_lst = ['woman', 'women', 'female', 'she', 'her', 'hers']\n",
    "man_lst = ['man', 'men', 'male', 'he', 'his', 'him']"
   ]
  },
  {
   "cell_type": "code",
   "execution_count": 9,
   "metadata": {},
   "outputs": [],
   "source": [
    "# Filter out the sentences that contain gender words\n",
    "filtered_text['text'] = filtered_text['text'].apply(lambda x: [sentence for sentence in x if any(word in sentence.split() for word in gender_lst)])"
   ]
  },
  {
   "cell_type": "code",
   "execution_count": 10,
   "metadata": {},
   "outputs": [],
   "source": [
    "sentence_count = 0\n",
    "for index, row in filtered_text.iterrows():\n",
    "    sentence_count += len(row['text'])"
   ]
  },
  {
   "cell_type": "code",
   "execution_count": 11,
   "metadata": {},
   "outputs": [
    {
     "data": {
      "text/plain": [
       "2005472"
      ]
     },
     "execution_count": 11,
     "metadata": {},
     "output_type": "execute_result"
    }
   ],
   "source": [
    "sentence_count"
   ]
  },
  {
   "cell_type": "code",
   "execution_count": 12,
   "metadata": {},
   "outputs": [
    {
     "name": "stderr",
     "output_type": "stream",
     "text": [
      "[nltk_data] Downloading package wordnet to\n",
      "[nltk_data]     C:\\Users\\tommy\\AppData\\Roaming\\nltk_data...\n",
      "[nltk_data]   Package wordnet is already up-to-date!\n"
     ]
    }
   ],
   "source": [
    "import nltk\n",
    "nltk.download('wordnet')\n",
    "from nltk.corpus import stopwords\n",
    "from nltk.stem import WordNetLemmatizer\n",
    "from nltk.tokenize import word_tokenize"
   ]
  },
  {
   "cell_type": "code",
   "execution_count": 13,
   "metadata": {},
   "outputs": [
    {
     "name": "stderr",
     "output_type": "stream",
     "text": [
      "[nltk_data] Downloading package punkt to\n",
      "[nltk_data]     C:\\Users\\tommy\\AppData\\Roaming\\nltk_data...\n",
      "[nltk_data]   Package punkt is already up-to-date!\n"
     ]
    },
    {
     "data": {
      "text/plain": [
       "True"
      ]
     },
     "execution_count": 13,
     "metadata": {},
     "output_type": "execute_result"
    }
   ],
   "source": [
    "nltk.download('punkt')"
   ]
  },
  {
   "cell_type": "code",
   "execution_count": 14,
   "metadata": {},
   "outputs": [],
   "source": [
    "wnl = WordNetLemmatizer()"
   ]
  },
  {
   "cell_type": "code",
   "execution_count": 15,
   "metadata": {},
   "outputs": [],
   "source": [
    "home_category = ['home', 'homes', 'domestic', 'household', 'households', 'chore', 'chores', 'family', 'families']\n",
    "work_category = ['work', 'works', 'worked', 'labor', 'worker', 'workers', 'economy', 'trade', 'trades', \\\n",
    "                 'business', 'businesses', 'job', 'jobs', 'company', 'companies', 'industry', 'industries', \\\n",
    "                 'pay', 'pays', 'paid', 'working', 'salary', 'salaries', 'wage', 'wages']\n",
    "achievement_category = ['power', 'authority', 'authorities', 'achievement', 'control', 'controls', 'controlled',\\\n",
    "                        'won', 'win', 'wins', 'powerful', 'success', 'succeed', 'succeeded', 'successful',\\\n",
    "                        'better', 'effort', 'efforts', 'plan', 'plans', 'planned', 'try', 'tries', 'tried', 'leader']"
   ]
  },
  {
   "cell_type": "code",
   "execution_count": 16,
   "metadata": {},
   "outputs": [],
   "source": [
    "filtered_text['text'] = filtered_text['text'].apply(lambda x: [sentence for sentence in x \\\n",
    "    if any(word in sentence.split() for word in home_category)\\\n",
    "    or any(word in sentence.split() for word in work_category)\\\n",
    "    or any(word in sentence.split() for word in achievement_category)])"
   ]
  },
  {
   "cell_type": "code",
   "execution_count": 17,
   "metadata": {},
   "outputs": [],
   "source": [
    "sentence_count = 0\n",
    "for index, row in filtered_text.iterrows():\n",
    "    sentence_count += len(row['text'])"
   ]
  },
  {
   "cell_type": "code",
   "execution_count": 18,
   "metadata": {},
   "outputs": [
    {
     "data": {
      "text/plain": [
       "67701"
      ]
     },
     "execution_count": 18,
     "metadata": {},
     "output_type": "execute_result"
    }
   ],
   "source": [
    "sentence_count"
   ]
  },
  {
   "cell_type": "code",
   "execution_count": 19,
   "metadata": {},
   "outputs": [],
   "source": [
    "sentences_df = pd.DataFrame(columns = ['text', 'gender', 'category'])"
   ]
  },
  {
   "cell_type": "code",
   "execution_count": 20,
   "metadata": {},
   "outputs": [],
   "source": [
    "# Building the sentences with labels\n",
    "for index, row in filtered_text.iterrows():\n",
    "    for i in range(len(row['text'])):\n",
    "        if any(word in row['text'][i].split() for word in woman_lst) and any(\n",
    "                word in row['text'][i].split() for word in man_lst):\n",
    "            break\n",
    "\n",
    "        elif any(word in row['text'][i].split() for word in woman_lst):\n",
    "            wordlist = [x for x in row['text'][i].split() if x in woman_lst]\n",
    "            for target_word in wordlist:\n",
    "                row['text'][i] = re.sub(r\"\\b%s\\b\" % target_word, 'woman', row['text'][i])\n",
    "            curr_categories = []\n",
    "            if any(word in row['text'][i].split() for word in home_category):\n",
    "                curr_categories.append('home')\n",
    "\n",
    "            if any(word in row['text'][i].split() for word in work_category):\n",
    "                curr_categories.append('work')\n",
    "\n",
    "            if any(word in row['text'][i].split() for word in achievement_category):\n",
    "                curr_categories.append('achievement')\n",
    "\n",
    "            sentences_df = sentences_df.append({'text': row['text'][i], 'gender': 'woman', 'category': curr_categories},\n",
    "                                               ignore_index=True)\n",
    "\n",
    "        elif any(word in row['text'][i].split() for word in man_lst):\n",
    "            wordlist = [x for x in row['text'][i].split() if x in man_lst]\n",
    "            for target_word in wordlist:\n",
    "                row['text'][i] = re.sub(r\"\\b%s\\b\" % target_word, 'man', row['text'][i])\n",
    "            curr_categories = []\n",
    "            if any(word in row['text'][i].split() for word in home_category):\n",
    "                curr_categories.append('home')\n",
    "\n",
    "            if any(word in row['text'][i].split() for word in work_category):\n",
    "                curr_categories.append('work')\n",
    "\n",
    "            if any(word in row['text'][i].split() for word in achievement_category):\n",
    "                curr_categories.append('achievement')\n",
    "                \n",
    "            sentences_df = sentences_df.append({'text': row['text'][i], 'gender': 'man', 'category': curr_categories},\n",
    "                                               ignore_index=True)"
   ]
  },
  {
   "cell_type": "code",
   "execution_count": 21,
   "metadata": {
    "scrolled": true
   },
   "outputs": [
    {
     "data": {
      "text/html": [
       "<div>\n",
       "<style scoped>\n",
       "    .dataframe tbody tr th:only-of-type {\n",
       "        vertical-align: middle;\n",
       "    }\n",
       "\n",
       "    .dataframe tbody tr th {\n",
       "        vertical-align: top;\n",
       "    }\n",
       "\n",
       "    .dataframe thead th {\n",
       "        text-align: right;\n",
       "    }\n",
       "</style>\n",
       "<table border=\"1\" class=\"dataframe\">\n",
       "  <thead>\n",
       "    <tr style=\"text-align: right;\">\n",
       "      <th></th>\n",
       "      <th>text</th>\n",
       "      <th>gender</th>\n",
       "      <th>category</th>\n",
       "    </tr>\n",
       "  </thead>\n",
       "  <tbody>\n",
       "    <tr>\n",
       "      <th>0</th>\n",
       "      <td>till with that wealth man pays man soldiery.</td>\n",
       "      <td>man</td>\n",
       "      <td>[work]</td>\n",
       "    </tr>\n",
       "    <tr>\n",
       "      <th>1</th>\n",
       "      <td>better to die than leave man banneret.\"</td>\n",
       "      <td>man</td>\n",
       "      <td>[achievement]</td>\n",
       "    </tr>\n",
       "    <tr>\n",
       "      <th>2</th>\n",
       "      <td>yet which might win they knew not, in man thou...</td>\n",
       "      <td>man</td>\n",
       "      <td>[achievement]</td>\n",
       "    </tr>\n",
       "    <tr>\n",
       "      <th>3</th>\n",
       "      <td>then find man men, man company are worth.\"</td>\n",
       "      <td>man</td>\n",
       "      <td>[work]</td>\n",
       "    </tr>\n",
       "    <tr>\n",
       "      <th>4</th>\n",
       "      <td>at the sword's point man yet shall pay our meed.\"</td>\n",
       "      <td>man</td>\n",
       "      <td>[work]</td>\n",
       "    </tr>\n",
       "    <tr>\n",
       "      <th>5</th>\n",
       "      <td>no man on earth has more nor better found.</td>\n",
       "      <td>man</td>\n",
       "      <td>[achievement]</td>\n",
       "    </tr>\n",
       "    <tr>\n",
       "      <th>6</th>\n",
       "      <td>better man loves murder and treachery</td>\n",
       "      <td>man</td>\n",
       "      <td>[achievement]</td>\n",
       "    </tr>\n",
       "    <tr>\n",
       "      <th>7</th>\n",
       "      <td>soon as rollant man senses won and knew,</td>\n",
       "      <td>man</td>\n",
       "      <td>[achievement]</td>\n",
       "    </tr>\n",
       "    <tr>\n",
       "      <th>8</th>\n",
       "      <td>i won for man with thee anjou, bretaigne,</td>\n",
       "      <td>man</td>\n",
       "      <td>[achievement]</td>\n",
       "    </tr>\n",
       "    <tr>\n",
       "      <th>9</th>\n",
       "      <td>and won for man with thee peitou, the maine,</td>\n",
       "      <td>man</td>\n",
       "      <td>[achievement]</td>\n",
       "    </tr>\n",
       "  </tbody>\n",
       "</table>\n",
       "</div>"
      ],
      "text/plain": [
       "                                                text gender       category\n",
       "0       till with that wealth man pays man soldiery.    man         [work]\n",
       "1            better to die than leave man banneret.\"    man  [achievement]\n",
       "2  yet which might win they knew not, in man thou...    man  [achievement]\n",
       "3         then find man men, man company are worth.\"    man         [work]\n",
       "4  at the sword's point man yet shall pay our meed.\"    man         [work]\n",
       "5         no man on earth has more nor better found.    man  [achievement]\n",
       "6              better man loves murder and treachery    man  [achievement]\n",
       "7           soon as rollant man senses won and knew,    man  [achievement]\n",
       "8          i won for man with thee anjou, bretaigne,    man  [achievement]\n",
       "9       and won for man with thee peitou, the maine,    man  [achievement]"
      ]
     },
     "execution_count": 21,
     "metadata": {},
     "output_type": "execute_result"
    }
   ],
   "source": [
    "sentences_df.head(10)"
   ]
  },
  {
   "cell_type": "markdown",
   "metadata": {},
   "source": [
    "# Part 2: Preprocessing and Cleaning"
   ]
  },
  {
   "cell_type": "code",
   "execution_count": 22,
   "metadata": {},
   "outputs": [],
   "source": [
    "lemmatizer = WordNetLemmatizer()"
   ]
  },
  {
   "cell_type": "code",
   "execution_count": 23,
   "metadata": {},
   "outputs": [],
   "source": [
    "sentences_df['text'] = sentences_df['text'].replace(r'[^A-Za-z0-9 \\']+', '', regex=True)\n",
    "sentences_df['text'] = sentences_df['text'].replace(r'  ', ' ', regex=True)\n",
    "\n",
    "for index, content in enumerate(sentences_df['text']):\n",
    "    if '\\'' not in content:\n",
    "        continue\n",
    "    sentences_df.replace(content, contractions.fix(content), inplace=True)"
   ]
  },
  {
   "cell_type": "code",
   "execution_count": 24,
   "metadata": {
    "scrolled": true
   },
   "outputs": [
    {
     "data": {
      "text/html": [
       "<div>\n",
       "<style scoped>\n",
       "    .dataframe tbody tr th:only-of-type {\n",
       "        vertical-align: middle;\n",
       "    }\n",
       "\n",
       "    .dataframe tbody tr th {\n",
       "        vertical-align: top;\n",
       "    }\n",
       "\n",
       "    .dataframe thead th {\n",
       "        text-align: right;\n",
       "    }\n",
       "</style>\n",
       "<table border=\"1\" class=\"dataframe\">\n",
       "  <thead>\n",
       "    <tr style=\"text-align: right;\">\n",
       "      <th></th>\n",
       "      <th>text</th>\n",
       "      <th>gender</th>\n",
       "      <th>category</th>\n",
       "    </tr>\n",
       "  </thead>\n",
       "  <tbody>\n",
       "    <tr>\n",
       "      <th>0</th>\n",
       "      <td>till with that wealth man pays man soldiery</td>\n",
       "      <td>man</td>\n",
       "      <td>[work]</td>\n",
       "    </tr>\n",
       "    <tr>\n",
       "      <th>1</th>\n",
       "      <td>better to die than leave man banneret</td>\n",
       "      <td>man</td>\n",
       "      <td>[achievement]</td>\n",
       "    </tr>\n",
       "    <tr>\n",
       "      <th>2</th>\n",
       "      <td>yet which might win they knew not in man thought</td>\n",
       "      <td>man</td>\n",
       "      <td>[achievement]</td>\n",
       "    </tr>\n",
       "    <tr>\n",
       "      <th>3</th>\n",
       "      <td>then find man men man company are worth</td>\n",
       "      <td>man</td>\n",
       "      <td>[work]</td>\n",
       "    </tr>\n",
       "    <tr>\n",
       "      <th>4</th>\n",
       "      <td>at the sword's point man yet shall pay our meed</td>\n",
       "      <td>man</td>\n",
       "      <td>[work]</td>\n",
       "    </tr>\n",
       "    <tr>\n",
       "      <th>5</th>\n",
       "      <td>no man on earth has more nor better found</td>\n",
       "      <td>man</td>\n",
       "      <td>[achievement]</td>\n",
       "    </tr>\n",
       "    <tr>\n",
       "      <th>6</th>\n",
       "      <td>better man loves murder and treachery</td>\n",
       "      <td>man</td>\n",
       "      <td>[achievement]</td>\n",
       "    </tr>\n",
       "    <tr>\n",
       "      <th>7</th>\n",
       "      <td>soon as rollant man senses won and knew</td>\n",
       "      <td>man</td>\n",
       "      <td>[achievement]</td>\n",
       "    </tr>\n",
       "    <tr>\n",
       "      <th>8</th>\n",
       "      <td>i won for man with thee anjou bretaigne</td>\n",
       "      <td>man</td>\n",
       "      <td>[achievement]</td>\n",
       "    </tr>\n",
       "    <tr>\n",
       "      <th>9</th>\n",
       "      <td>and won for man with thee peitou the maine</td>\n",
       "      <td>man</td>\n",
       "      <td>[achievement]</td>\n",
       "    </tr>\n",
       "  </tbody>\n",
       "</table>\n",
       "</div>"
      ],
      "text/plain": [
       "                                               text gender       category\n",
       "0       till with that wealth man pays man soldiery    man         [work]\n",
       "1             better to die than leave man banneret    man  [achievement]\n",
       "2  yet which might win they knew not in man thought    man  [achievement]\n",
       "3           then find man men man company are worth    man         [work]\n",
       "4   at the sword's point man yet shall pay our meed    man         [work]\n",
       "5         no man on earth has more nor better found    man  [achievement]\n",
       "6             better man loves murder and treachery    man  [achievement]\n",
       "7           soon as rollant man senses won and knew    man  [achievement]\n",
       "8           i won for man with thee anjou bretaigne    man  [achievement]\n",
       "9        and won for man with thee peitou the maine    man  [achievement]"
      ]
     },
     "execution_count": 24,
     "metadata": {},
     "output_type": "execute_result"
    }
   ],
   "source": [
    "sentences_df.head(10)"
   ]
  },
  {
   "cell_type": "code",
   "execution_count": 25,
   "metadata": {
    "scrolled": true
   },
   "outputs": [],
   "source": [
    "space = ' '\n",
    "stop_words = set(stopwords.words('english'))\n",
    "for index, content in enumerate(sentences_df['text']):\n",
    "    filtered = []\n",
    "    word_tokens = word_tokenize(content)\n",
    "    for w in word_tokens:\n",
    "        if w not in stop_words:\n",
    "            # perform lemmatization\n",
    "            final_w = lemmatizer.lemmatize(w)\n",
    "            filtered.append(final_w)\n",
    "    filtered_join = space.join(filtered)\n",
    "    sentences_df.at[index, 'text'] = filtered_join"
   ]
  },
  {
   "cell_type": "code",
   "execution_count": 26,
   "metadata": {},
   "outputs": [
    {
     "data": {
      "text/html": [
       "<div>\n",
       "<style scoped>\n",
       "    .dataframe tbody tr th:only-of-type {\n",
       "        vertical-align: middle;\n",
       "    }\n",
       "\n",
       "    .dataframe tbody tr th {\n",
       "        vertical-align: top;\n",
       "    }\n",
       "\n",
       "    .dataframe thead th {\n",
       "        text-align: right;\n",
       "    }\n",
       "</style>\n",
       "<table border=\"1\" class=\"dataframe\">\n",
       "  <thead>\n",
       "    <tr style=\"text-align: right;\">\n",
       "      <th></th>\n",
       "      <th>text</th>\n",
       "      <th>gender</th>\n",
       "      <th>category</th>\n",
       "    </tr>\n",
       "  </thead>\n",
       "  <tbody>\n",
       "    <tr>\n",
       "      <th>0</th>\n",
       "      <td>till wealth man pay man soldiery</td>\n",
       "      <td>man</td>\n",
       "      <td>[work]</td>\n",
       "    </tr>\n",
       "    <tr>\n",
       "      <th>1</th>\n",
       "      <td>better die leave man banneret</td>\n",
       "      <td>man</td>\n",
       "      <td>[achievement]</td>\n",
       "    </tr>\n",
       "    <tr>\n",
       "      <th>2</th>\n",
       "      <td>yet might win knew man thought</td>\n",
       "      <td>man</td>\n",
       "      <td>[achievement]</td>\n",
       "    </tr>\n",
       "    <tr>\n",
       "      <th>3</th>\n",
       "      <td>find man men man company worth</td>\n",
       "      <td>man</td>\n",
       "      <td>[work]</td>\n",
       "    </tr>\n",
       "    <tr>\n",
       "      <th>4</th>\n",
       "      <td>sword 's point man yet shall pay meed</td>\n",
       "      <td>man</td>\n",
       "      <td>[work]</td>\n",
       "    </tr>\n",
       "    <tr>\n",
       "      <th>5</th>\n",
       "      <td>man earth better found</td>\n",
       "      <td>man</td>\n",
       "      <td>[achievement]</td>\n",
       "    </tr>\n",
       "    <tr>\n",
       "      <th>6</th>\n",
       "      <td>better man love murder treachery</td>\n",
       "      <td>man</td>\n",
       "      <td>[achievement]</td>\n",
       "    </tr>\n",
       "    <tr>\n",
       "      <th>7</th>\n",
       "      <td>soon rollant man sens knew</td>\n",
       "      <td>man</td>\n",
       "      <td>[achievement]</td>\n",
       "    </tr>\n",
       "    <tr>\n",
       "      <th>8</th>\n",
       "      <td>man thee anjou bretaigne</td>\n",
       "      <td>man</td>\n",
       "      <td>[achievement]</td>\n",
       "    </tr>\n",
       "    <tr>\n",
       "      <th>9</th>\n",
       "      <td>man thee peitou maine</td>\n",
       "      <td>man</td>\n",
       "      <td>[achievement]</td>\n",
       "    </tr>\n",
       "  </tbody>\n",
       "</table>\n",
       "</div>"
      ],
      "text/plain": [
       "                                    text gender       category\n",
       "0       till wealth man pay man soldiery    man         [work]\n",
       "1          better die leave man banneret    man  [achievement]\n",
       "2         yet might win knew man thought    man  [achievement]\n",
       "3         find man men man company worth    man         [work]\n",
       "4  sword 's point man yet shall pay meed    man         [work]\n",
       "5                 man earth better found    man  [achievement]\n",
       "6       better man love murder treachery    man  [achievement]\n",
       "7             soon rollant man sens knew    man  [achievement]\n",
       "8               man thee anjou bretaigne    man  [achievement]\n",
       "9                  man thee peitou maine    man  [achievement]"
      ]
     },
     "execution_count": 26,
     "metadata": {},
     "output_type": "execute_result"
    }
   ],
   "source": [
    "sentences_df.head(10)"
   ]
  },
  {
   "cell_type": "code",
   "execution_count": 27,
   "metadata": {},
   "outputs": [
    {
     "data": {
      "text/html": [
       "<div>\n",
       "<style scoped>\n",
       "    .dataframe tbody tr th:only-of-type {\n",
       "        vertical-align: middle;\n",
       "    }\n",
       "\n",
       "    .dataframe tbody tr th {\n",
       "        vertical-align: top;\n",
       "    }\n",
       "\n",
       "    .dataframe thead th {\n",
       "        text-align: right;\n",
       "    }\n",
       "</style>\n",
       "<table border=\"1\" class=\"dataframe\">\n",
       "  <thead>\n",
       "    <tr style=\"text-align: right;\">\n",
       "      <th></th>\n",
       "      <th>text</th>\n",
       "      <th>category</th>\n",
       "    </tr>\n",
       "    <tr>\n",
       "      <th>gender</th>\n",
       "      <th></th>\n",
       "      <th></th>\n",
       "    </tr>\n",
       "  </thead>\n",
       "  <tbody>\n",
       "    <tr>\n",
       "      <th>man</th>\n",
       "      <td>36030</td>\n",
       "      <td>36030</td>\n",
       "    </tr>\n",
       "    <tr>\n",
       "      <th>woman</th>\n",
       "      <td>10024</td>\n",
       "      <td>10024</td>\n",
       "    </tr>\n",
       "  </tbody>\n",
       "</table>\n",
       "</div>"
      ],
      "text/plain": [
       "         text  category\n",
       "gender                 \n",
       "man     36030     36030\n",
       "woman   10024     10024"
      ]
     },
     "execution_count": 27,
     "metadata": {},
     "output_type": "execute_result"
    }
   ],
   "source": [
    "sentences_df.groupby('gender').count()"
   ]
  },
  {
   "cell_type": "code",
   "execution_count": 28,
   "metadata": {},
   "outputs": [],
   "source": [
    "sentences_df.to_csv('cleaned_data.csv', index=False)"
   ]
  },
  {
   "cell_type": "markdown",
   "metadata": {},
   "source": [
    "# Extra processing - Not Used"
   ]
  },
  {
   "cell_type": "code",
   "execution_count": 29,
   "metadata": {},
   "outputs": [],
   "source": [
    "pre1980_author_df = author_df[author_df['death'] < int(1980)]"
   ]
  },
  {
   "cell_type": "code",
   "execution_count": 30,
   "metadata": {},
   "outputs": [],
   "source": [
    "post1980_author_df = author_df[author_df['born'] >= int(1950)]"
   ]
  },
  {
   "cell_type": "code",
   "execution_count": 31,
   "metadata": {
    "scrolled": true
   },
   "outputs": [
    {
     "data": {
      "text/html": [
       "<div>\n",
       "<style scoped>\n",
       "    .dataframe tbody tr th:only-of-type {\n",
       "        vertical-align: middle;\n",
       "    }\n",
       "\n",
       "    .dataframe tbody tr th {\n",
       "        vertical-align: top;\n",
       "    }\n",
       "\n",
       "    .dataframe thead th {\n",
       "        text-align: right;\n",
       "    }\n",
       "</style>\n",
       "<table border=\"1\" class=\"dataframe\">\n",
       "  <thead>\n",
       "    <tr style=\"text-align: right;\">\n",
       "      <th></th>\n",
       "      <th>index</th>\n",
       "      <th>author</th>\n",
       "      <th>born</th>\n",
       "      <th>death</th>\n",
       "    </tr>\n",
       "  </thead>\n",
       "  <tbody>\n",
       "    <tr>\n",
       "      <th>3</th>\n",
       "      <td>3</td>\n",
       "      <td>Aesop</td>\n",
       "      <td>10000</td>\n",
       "      <td>10000</td>\n",
       "    </tr>\n",
       "    <tr>\n",
       "      <th>13</th>\n",
       "      <td>13</td>\n",
       "      <td>Anatole France</td>\n",
       "      <td>10000</td>\n",
       "      <td>10000</td>\n",
       "    </tr>\n",
       "    <tr>\n",
       "      <th>92</th>\n",
       "      <td>92</td>\n",
       "      <td>Frederick Engles</td>\n",
       "      <td>10000</td>\n",
       "      <td>10000</td>\n",
       "    </tr>\n",
       "    <tr>\n",
       "      <th>95</th>\n",
       "      <td>95</td>\n",
       "      <td>Friedrich Wieser</td>\n",
       "      <td>10000</td>\n",
       "      <td>10000</td>\n",
       "    </tr>\n",
       "    <tr>\n",
       "      <th>96</th>\n",
       "      <td>96</td>\n",
       "      <td>Fyodor Dostoevsky</td>\n",
       "      <td>10000</td>\n",
       "      <td>10000</td>\n",
       "    </tr>\n",
       "    <tr>\n",
       "      <th>129</th>\n",
       "      <td>129</td>\n",
       "      <td>Homer</td>\n",
       "      <td>10000</td>\n",
       "      <td>10000</td>\n",
       "    </tr>\n",
       "    <tr>\n",
       "      <th>140</th>\n",
       "      <td>140</td>\n",
       "      <td>Jacob Vanderlint</td>\n",
       "      <td>10000</td>\n",
       "      <td>1740</td>\n",
       "    </tr>\n",
       "    <tr>\n",
       "      <th>200</th>\n",
       "      <td>200</td>\n",
       "      <td>Nan</td>\n",
       "      <td>10000</td>\n",
       "      <td>10000</td>\n",
       "    </tr>\n",
       "    <tr>\n",
       "      <th>212</th>\n",
       "      <td>212</td>\n",
       "      <td>P. Cornelius Tacitus</td>\n",
       "      <td>10000</td>\n",
       "      <td>10000</td>\n",
       "    </tr>\n",
       "    <tr>\n",
       "      <th>216</th>\n",
       "      <td>216</td>\n",
       "      <td>Plato</td>\n",
       "      <td>10000</td>\n",
       "      <td>10000</td>\n",
       "    </tr>\n",
       "    <tr>\n",
       "      <th>217</th>\n",
       "      <td>217</td>\n",
       "      <td>Plutarch</td>\n",
       "      <td>10000</td>\n",
       "      <td>126</td>\n",
       "    </tr>\n",
       "    <tr>\n",
       "      <th>222</th>\n",
       "      <td>222</td>\n",
       "      <td>Richard Cantillon</td>\n",
       "      <td>10000</td>\n",
       "      <td>1734</td>\n",
       "    </tr>\n",
       "    <tr>\n",
       "      <th>254</th>\n",
       "      <td>254</td>\n",
       "      <td>Thomas Malory</td>\n",
       "      <td>10000</td>\n",
       "      <td>1471</td>\n",
       "    </tr>\n",
       "    <tr>\n",
       "      <th>261</th>\n",
       "      <td>261</td>\n",
       "      <td>Thucydides</td>\n",
       "      <td>10000</td>\n",
       "      <td>10000</td>\n",
       "    </tr>\n",
       "    <tr>\n",
       "      <th>263</th>\n",
       "      <td>263</td>\n",
       "      <td>Titus Lucretius Carus</td>\n",
       "      <td>10000</td>\n",
       "      <td>10000</td>\n",
       "    </tr>\n",
       "    <tr>\n",
       "      <th>277</th>\n",
       "      <td>277</td>\n",
       "      <td>William And Ellen Craft</td>\n",
       "      <td>10000</td>\n",
       "      <td>10000</td>\n",
       "    </tr>\n",
       "    <tr>\n",
       "      <th>290</th>\n",
       "      <td>290</td>\n",
       "      <td>Xenophon</td>\n",
       "      <td>10000</td>\n",
       "      <td>10000</td>\n",
       "    </tr>\n",
       "  </tbody>\n",
       "</table>\n",
       "</div>"
      ],
      "text/plain": [
       "     index                   author   born  death\n",
       "3        3                    Aesop  10000  10000\n",
       "13      13           Anatole France  10000  10000\n",
       "92      92         Frederick Engles  10000  10000\n",
       "95      95         Friedrich Wieser  10000  10000\n",
       "96      96        Fyodor Dostoevsky  10000  10000\n",
       "129    129                    Homer  10000  10000\n",
       "140    140         Jacob Vanderlint  10000   1740\n",
       "200    200                      Nan  10000  10000\n",
       "212    212     P. Cornelius Tacitus  10000  10000\n",
       "216    216                    Plato  10000  10000\n",
       "217    217                 Plutarch  10000    126\n",
       "222    222      Richard Cantillon    10000   1734\n",
       "254    254            Thomas Malory  10000   1471\n",
       "261    261               Thucydides  10000  10000\n",
       "263    263    Titus Lucretius Carus  10000  10000\n",
       "277    277  William And Ellen Craft  10000  10000\n",
       "290    290                 Xenophon  10000  10000"
      ]
     },
     "execution_count": 31,
     "metadata": {},
     "output_type": "execute_result"
    }
   ],
   "source": [
    "post1980_author_df"
   ]
  },
  {
   "cell_type": "markdown",
   "metadata": {},
   "source": [
    "# Create Word2Vec Model"
   ]
  },
  {
   "cell_type": "code",
   "execution_count": 32,
   "metadata": {},
   "outputs": [
    {
     "name": "stderr",
     "output_type": "stream",
     "text": [
      "C:\\Users\\tommy\\anaconda3\\envs\\new-env\\lib\\site-packages\\gensim\\similarities\\__init__.py:15: UserWarning: The gensim.similarities.levenshtein submodule is disabled, because the optional Levenshtein package <https://pypi.org/project/python-Levenshtein/> is unavailable. Install Levenhstein (e.g. `pip install python-Levenshtein`) to suppress this warning.\n",
      "  warnings.warn(msg)\n"
     ]
    }
   ],
   "source": [
    "import gensim.models\n",
    "from gensim.test.utils import datapath\n",
    "from gensim import utils\n",
    "\n",
    "sentence_list = sentences_df['text'].to_list()"
   ]
  },
  {
   "cell_type": "code",
   "execution_count": 33,
   "metadata": {},
   "outputs": [],
   "source": [
    "class MyCorpus:\n",
    "    \"\"\"An iterator that yields sentences (lists of str).\"\"\"\n",
    "\n",
    "    def __iter__(self):\n",
    "        for line in sentence_list:\n",
    "            # assume there's one document per line, tokens separated by whitespace\n",
    "            yield utils.simple_preprocess(line)"
   ]
  },
  {
   "cell_type": "markdown",
   "metadata": {},
   "source": [
    "# Calculate Similarity"
   ]
  },
  {
   "cell_type": "code",
   "execution_count": 34,
   "metadata": {},
   "outputs": [],
   "source": [
    "import gensim.models\n",
    "\n",
    "sentences = MyCorpus()\n",
    "model = gensim.models.Word2Vec(sentences=sentences)"
   ]
  },
  {
   "cell_type": "code",
   "execution_count": 35,
   "metadata": {
    "scrolled": true
   },
   "outputs": [
    {
     "data": {
      "text/html": [
       "<div>\n",
       "<style scoped>\n",
       "    .dataframe tbody tr th:only-of-type {\n",
       "        vertical-align: middle;\n",
       "    }\n",
       "\n",
       "    .dataframe tbody tr th {\n",
       "        vertical-align: top;\n",
       "    }\n",
       "\n",
       "    .dataframe thead th {\n",
       "        text-align: right;\n",
       "    }\n",
       "</style>\n",
       "<table border=\"1\" class=\"dataframe\">\n",
       "  <thead>\n",
       "    <tr style=\"text-align: right;\">\n",
       "      <th></th>\n",
       "      <th>category</th>\n",
       "      <th>word</th>\n",
       "      <th>man</th>\n",
       "      <th>woman</th>\n",
       "    </tr>\n",
       "  </thead>\n",
       "  <tbody>\n",
       "    <tr>\n",
       "      <th>0</th>\n",
       "      <td>home</td>\n",
       "      <td>home</td>\n",
       "      <td>0.278025</td>\n",
       "      <td>0.447398</td>\n",
       "    </tr>\n",
       "    <tr>\n",
       "      <th>1</th>\n",
       "      <td>home</td>\n",
       "      <td>domestic</td>\n",
       "      <td>0.456085</td>\n",
       "      <td>0.397379</td>\n",
       "    </tr>\n",
       "    <tr>\n",
       "      <th>2</th>\n",
       "      <td>home</td>\n",
       "      <td>household</td>\n",
       "      <td>0.521147</td>\n",
       "      <td>0.545250</td>\n",
       "    </tr>\n",
       "    <tr>\n",
       "      <th>3</th>\n",
       "      <td>home</td>\n",
       "      <td>family</td>\n",
       "      <td>0.341766</td>\n",
       "      <td>0.355769</td>\n",
       "    </tr>\n",
       "    <tr>\n",
       "      <th>4</th>\n",
       "      <td>work</td>\n",
       "      <td>work</td>\n",
       "      <td>0.300773</td>\n",
       "      <td>0.276749</td>\n",
       "    </tr>\n",
       "    <tr>\n",
       "      <th>5</th>\n",
       "      <td>work</td>\n",
       "      <td>worked</td>\n",
       "      <td>0.380756</td>\n",
       "      <td>0.352960</td>\n",
       "    </tr>\n",
       "    <tr>\n",
       "      <th>6</th>\n",
       "      <td>work</td>\n",
       "      <td>labor</td>\n",
       "      <td>0.686888</td>\n",
       "      <td>0.536968</td>\n",
       "    </tr>\n",
       "    <tr>\n",
       "      <th>7</th>\n",
       "      <td>work</td>\n",
       "      <td>worker</td>\n",
       "      <td>0.789097</td>\n",
       "      <td>0.637242</td>\n",
       "    </tr>\n",
       "    <tr>\n",
       "      <th>8</th>\n",
       "      <td>work</td>\n",
       "      <td>economy</td>\n",
       "      <td>0.788844</td>\n",
       "      <td>0.648822</td>\n",
       "    </tr>\n",
       "    <tr>\n",
       "      <th>9</th>\n",
       "      <td>work</td>\n",
       "      <td>trade</td>\n",
       "      <td>0.516140</td>\n",
       "      <td>0.382372</td>\n",
       "    </tr>\n",
       "    <tr>\n",
       "      <th>10</th>\n",
       "      <td>work</td>\n",
       "      <td>business</td>\n",
       "      <td>0.415229</td>\n",
       "      <td>0.317549</td>\n",
       "    </tr>\n",
       "    <tr>\n",
       "      <th>11</th>\n",
       "      <td>work</td>\n",
       "      <td>job</td>\n",
       "      <td>0.615831</td>\n",
       "      <td>0.573973</td>\n",
       "    </tr>\n",
       "    <tr>\n",
       "      <th>12</th>\n",
       "      <td>work</td>\n",
       "      <td>company</td>\n",
       "      <td>0.374487</td>\n",
       "      <td>0.379473</td>\n",
       "    </tr>\n",
       "    <tr>\n",
       "      <th>13</th>\n",
       "      <td>work</td>\n",
       "      <td>industry</td>\n",
       "      <td>0.660357</td>\n",
       "      <td>0.553959</td>\n",
       "    </tr>\n",
       "    <tr>\n",
       "      <th>14</th>\n",
       "      <td>work</td>\n",
       "      <td>pay</td>\n",
       "      <td>0.328007</td>\n",
       "      <td>0.232394</td>\n",
       "    </tr>\n",
       "    <tr>\n",
       "      <th>15</th>\n",
       "      <td>work</td>\n",
       "      <td>paid</td>\n",
       "      <td>0.278854</td>\n",
       "      <td>0.187850</td>\n",
       "    </tr>\n",
       "    <tr>\n",
       "      <th>16</th>\n",
       "      <td>work</td>\n",
       "      <td>working</td>\n",
       "      <td>0.384138</td>\n",
       "      <td>0.363855</td>\n",
       "    </tr>\n",
       "    <tr>\n",
       "      <th>17</th>\n",
       "      <td>work</td>\n",
       "      <td>salary</td>\n",
       "      <td>0.755362</td>\n",
       "      <td>0.596279</td>\n",
       "    </tr>\n",
       "    <tr>\n",
       "      <th>18</th>\n",
       "      <td>work</td>\n",
       "      <td>wage</td>\n",
       "      <td>0.670393</td>\n",
       "      <td>0.444441</td>\n",
       "    </tr>\n",
       "    <tr>\n",
       "      <th>19</th>\n",
       "      <td>achievement</td>\n",
       "      <td>power</td>\n",
       "      <td>0.360833</td>\n",
       "      <td>0.275476</td>\n",
       "    </tr>\n",
       "    <tr>\n",
       "      <th>20</th>\n",
       "      <td>achievement</td>\n",
       "      <td>authority</td>\n",
       "      <td>0.418969</td>\n",
       "      <td>0.321271</td>\n",
       "    </tr>\n",
       "    <tr>\n",
       "      <th>21</th>\n",
       "      <td>achievement</td>\n",
       "      <td>achievement</td>\n",
       "      <td>0.800718</td>\n",
       "      <td>0.646921</td>\n",
       "    </tr>\n",
       "    <tr>\n",
       "      <th>22</th>\n",
       "      <td>achievement</td>\n",
       "      <td>control</td>\n",
       "      <td>0.572315</td>\n",
       "      <td>0.522870</td>\n",
       "    </tr>\n",
       "    <tr>\n",
       "      <th>23</th>\n",
       "      <td>achievement</td>\n",
       "      <td>controlled</td>\n",
       "      <td>0.777434</td>\n",
       "      <td>0.666626</td>\n",
       "    </tr>\n",
       "    <tr>\n",
       "      <th>24</th>\n",
       "      <td>achievement</td>\n",
       "      <td>win</td>\n",
       "      <td>0.491747</td>\n",
       "      <td>0.482771</td>\n",
       "    </tr>\n",
       "    <tr>\n",
       "      <th>25</th>\n",
       "      <td>achievement</td>\n",
       "      <td>powerful</td>\n",
       "      <td>0.431502</td>\n",
       "      <td>0.319500</td>\n",
       "    </tr>\n",
       "    <tr>\n",
       "      <th>26</th>\n",
       "      <td>achievement</td>\n",
       "      <td>success</td>\n",
       "      <td>0.432210</td>\n",
       "      <td>0.320381</td>\n",
       "    </tr>\n",
       "    <tr>\n",
       "      <th>27</th>\n",
       "      <td>achievement</td>\n",
       "      <td>succeed</td>\n",
       "      <td>0.678895</td>\n",
       "      <td>0.580797</td>\n",
       "    </tr>\n",
       "    <tr>\n",
       "      <th>28</th>\n",
       "      <td>achievement</td>\n",
       "      <td>succeeded</td>\n",
       "      <td>0.370683</td>\n",
       "      <td>0.352912</td>\n",
       "    </tr>\n",
       "    <tr>\n",
       "      <th>29</th>\n",
       "      <td>achievement</td>\n",
       "      <td>successful</td>\n",
       "      <td>0.634603</td>\n",
       "      <td>0.472138</td>\n",
       "    </tr>\n",
       "    <tr>\n",
       "      <th>30</th>\n",
       "      <td>achievement</td>\n",
       "      <td>better</td>\n",
       "      <td>0.388051</td>\n",
       "      <td>0.459555</td>\n",
       "    </tr>\n",
       "    <tr>\n",
       "      <th>31</th>\n",
       "      <td>achievement</td>\n",
       "      <td>effort</td>\n",
       "      <td>0.290687</td>\n",
       "      <td>0.295910</td>\n",
       "    </tr>\n",
       "    <tr>\n",
       "      <th>32</th>\n",
       "      <td>achievement</td>\n",
       "      <td>plan</td>\n",
       "      <td>0.368420</td>\n",
       "      <td>0.332386</td>\n",
       "    </tr>\n",
       "    <tr>\n",
       "      <th>33</th>\n",
       "      <td>achievement</td>\n",
       "      <td>planned</td>\n",
       "      <td>0.718424</td>\n",
       "      <td>0.602569</td>\n",
       "    </tr>\n",
       "    <tr>\n",
       "      <th>34</th>\n",
       "      <td>achievement</td>\n",
       "      <td>try</td>\n",
       "      <td>0.406366</td>\n",
       "      <td>0.482826</td>\n",
       "    </tr>\n",
       "    <tr>\n",
       "      <th>35</th>\n",
       "      <td>achievement</td>\n",
       "      <td>tried</td>\n",
       "      <td>0.263127</td>\n",
       "      <td>0.453110</td>\n",
       "    </tr>\n",
       "    <tr>\n",
       "      <th>36</th>\n",
       "      <td>achievement</td>\n",
       "      <td>leader</td>\n",
       "      <td>0.599043</td>\n",
       "      <td>0.492589</td>\n",
       "    </tr>\n",
       "  </tbody>\n",
       "</table>\n",
       "</div>"
      ],
      "text/plain": [
       "       category         word       man     woman\n",
       "0          home         home  0.278025  0.447398\n",
       "1          home     domestic  0.456085  0.397379\n",
       "2          home    household  0.521147  0.545250\n",
       "3          home       family  0.341766  0.355769\n",
       "4          work         work  0.300773  0.276749\n",
       "5          work       worked  0.380756  0.352960\n",
       "6          work        labor  0.686888  0.536968\n",
       "7          work       worker  0.789097  0.637242\n",
       "8          work      economy  0.788844  0.648822\n",
       "9          work        trade  0.516140  0.382372\n",
       "10         work     business  0.415229  0.317549\n",
       "11         work          job  0.615831  0.573973\n",
       "12         work      company  0.374487  0.379473\n",
       "13         work     industry  0.660357  0.553959\n",
       "14         work          pay  0.328007  0.232394\n",
       "15         work         paid  0.278854  0.187850\n",
       "16         work      working  0.384138  0.363855\n",
       "17         work       salary  0.755362  0.596279\n",
       "18         work         wage  0.670393  0.444441\n",
       "19  achievement        power  0.360833  0.275476\n",
       "20  achievement    authority  0.418969  0.321271\n",
       "21  achievement  achievement  0.800718  0.646921\n",
       "22  achievement      control  0.572315  0.522870\n",
       "23  achievement   controlled  0.777434  0.666626\n",
       "24  achievement          win  0.491747  0.482771\n",
       "25  achievement     powerful  0.431502  0.319500\n",
       "26  achievement      success  0.432210  0.320381\n",
       "27  achievement      succeed  0.678895  0.580797\n",
       "28  achievement    succeeded  0.370683  0.352912\n",
       "29  achievement   successful  0.634603  0.472138\n",
       "30  achievement       better  0.388051  0.459555\n",
       "31  achievement       effort  0.290687  0.295910\n",
       "32  achievement         plan  0.368420  0.332386\n",
       "33  achievement      planned  0.718424  0.602569\n",
       "34  achievement          try  0.406366  0.482826\n",
       "35  achievement        tried  0.263127  0.453110\n",
       "36  achievement       leader  0.599043  0.492589"
      ]
     },
     "execution_count": 35,
     "metadata": {},
     "output_type": "execute_result"
    }
   ],
   "source": [
    "pairs=[]\n",
    "\n",
    "for i in range(len(home_category)):\n",
    "    pairs.append((home_category[i], 'home'))\n",
    "    \n",
    "for i in range(len(work_category)):\n",
    "    pairs.append((work_category[i], 'work'))\n",
    "    \n",
    "for i in range(len(achievement_category)):\n",
    "    pairs.append((achievement_category[i], 'achievement'))\n",
    "\n",
    "simi_table = pd.DataFrame(columns = ['category', 'word', 'man', 'woman'])\n",
    "    \n",
    "for word, category in pairs:\n",
    "    try:\n",
    "        simi_table = simi_table.append({'category': category, 'word': word, 'man': model.wv.similarity('man', word), \n",
    "                                        'woman': model.wv.similarity('woman', word)}, ignore_index=True)\n",
    "    except:\n",
    "        continue\n",
    "\n",
    "simi_table"
   ]
  },
  {
   "cell_type": "code",
   "execution_count": 36,
   "metadata": {},
   "outputs": [],
   "source": [
    "simi_table.to_csv('simi_table.csv', index=False)"
   ]
  },
  {
   "cell_type": "code",
   "execution_count": 37,
   "metadata": {},
   "outputs": [],
   "source": [
    "import matplotlib.pyplot as plt\n",
    "import matplotlib.cm as cm\n",
    "import matplotlib.colors as colors\n",
    "\n",
    "simi_home = simi_table.loc[simi_table['category']=='home']\n",
    "simi_work = simi_table.loc[simi_table['category']=='work']\n",
    "simi_achievement = simi_table.loc[simi_table['category']=='achievement']"
   ]
  },
  {
   "cell_type": "code",
   "execution_count": 38,
   "metadata": {},
   "outputs": [
    {
     "data": {
      "image/png": "[encoded data removed]",
      "text/plain": [
       "<Figure size 864x864 with 1 Axes>"
      ]
     },
     "metadata": {
      "needs_background": "light"
     },
     "output_type": "display_data"
    }
   ],
   "source": [
    "fig = plt.figure(figsize=(12,12))\n",
    "ax = fig.add_subplot(111)\n",
    "\n",
    "plt.scatter(simi_home['man'], simi_home['woman'], marker='o', label=\"home\", c='r')\n",
    "plt.scatter(simi_work['man'], simi_work['woman'], marker='^', label=\"work\", c='g')\n",
    "plt.scatter(simi_achievement['man'], simi_achievement['woman'], marker='s', label=\"achievement\", c='b')\n",
    "\n",
    "x = np.linspace(0.15,0.9,100)\n",
    "plt.plot(x, x, c='black')\n",
    "plt.legend(loc='best')\n",
    "\n",
    "plt.title('Cosine Similarities - word2vec')\n",
    "plt.xlabel('Man Terms')\n",
    "plt.ylabel('Woman Terms')\n",
    "\n",
    "plt.xlim([0.15,0.9])\n",
    "plt.ylim([0.15,0.9])\n",
    "\n",
    "for i in range(len(simi_table)):\n",
    "    ax.annotate(simi_table['word'][i], xy=(simi_table['man'][i], simi_table['woman'][i]), \n",
    "                xytext=(simi_table['man'][i]+0.005, simi_table['woman'][i]+0.005))\n",
    "\n",
    "ax.set_aspect('equal', adjustable='box')\n",
    "\n",
    "plt.savefig(\"Cosine Similarities - word2vec.png\")\n",
    "plt.grid()\n",
    "plt.show()"
   ]
  },
  {
   "cell_type": "code",
   "execution_count": null,
   "metadata": {},
   "outputs": [],
   "source": []
  }
 ],
 "metadata": {
  "kernelspec": {
   "display_name": "Python [conda env:new-env]",
   "language": "python",
   "name": "conda-env-new-env-py"
  },
  "language_info": {
   "codemirror_mode": {
    "name": "ipython",
    "version": 3
   },
   "file_extension": ".py",
   "mimetype": "text/x-python",
   "name": "python",
   "nbconvert_exporter": "python",
   "pygments_lexer": "ipython3",
   "version": "3.6.13"
  }
 },
 "nbformat": 4,
 "nbformat_minor": 2
}
